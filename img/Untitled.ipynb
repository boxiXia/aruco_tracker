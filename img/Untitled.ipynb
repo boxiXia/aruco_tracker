{
 "cells": [
  {
   "cell_type": "code",
   "execution_count": 4,
   "id": "909b1e22",
   "metadata": {
    "ExecuteTime": {
     "end_time": "2021-07-28T21:23:24.500827Z",
     "start_time": "2021-07-28T21:23:24.491826Z"
    }
   },
   "outputs": [],
   "source": [
    "import glob\n",
    "from mpl_toolkits.axes_grid1 import ImageGrid\n",
    "import matplotlib.pyplot as plt\n",
    "import matplotlib as mpl\n",
    "import numpy as np\n",
    "from PIL import Image"
   ]
  },
  {
   "cell_type": "code",
   "execution_count": 26,
   "id": "40d181c2",
   "metadata": {
    "ExecuteTime": {
     "end_time": "2021-07-28T22:09:53.350643Z",
     "start_time": "2021-07-28T22:09:53.277637Z"
    }
   },
   "outputs": [],
   "source": [
    "dict_paths = glob.glob(\"ARUCO_MIP_25h7/*.png\")\n",
    "im = plt.imread(dict_paths[0])\n",
    "ims = [plt.imread(p) for p in dict_paths]"
   ]
  },
  {
   "cell_type": "code",
   "execution_count": 36,
   "id": "baaed61e",
   "metadata": {
    "ExecuteTime": {
     "end_time": "2021-07-28T22:22:30.034881Z",
     "start_time": "2021-07-28T22:22:13.854538Z"
    }
   },
   "outputs": [],
   "source": [
    "nrows = 6\n",
    "ncols = 5\n",
    "pad_size = 300\n",
    "n_dict = len(dict_paths)\n",
    "n_img = n_dict/(nrows*ncols)\n",
    "n_img = int(n_img)+1 if n_img>int(n_img) else int(n_img)\n",
    "\n",
    "grid_size = im.shape[0]\n",
    "for i in range(n_img):\n",
    "    offset = nrows*ncols*i\n",
    "    all_img = np.ones((nrows*grid_size+pad_size*2,ncols*grid_size+pad_size*2),dtype=np.float32)\n",
    "    for row in range(nrows):\n",
    "        for col in range(ncols):\n",
    "            k = row*ncols+col + offset\n",
    "            try:\n",
    "                im = ims[k]\n",
    "            except IndexError:\n",
    "                break\n",
    "            all_img[pad_size:,pad_size:][row*grid_size:(row+1)*grid_size,col*grid_size:(col+1)*grid_size] = im\n",
    "        else:\n",
    "            continue\n",
    "        break\n",
    "    for row in range(nrows):\n",
    "        all_img[pad_size:,pad_size:][row*grid_size-1:row*grid_size+2,:] = 0.9\n",
    "    for col in range(ncols):\n",
    "        all_img[pad_size:,pad_size:][:,col*grid_size-1:col*grid_size+2,] = 0.9\n",
    "#     all_img = np.pad(all_img,300,mode='constant',constant_values=1)\n",
    "    gr_im= Image.fromarray(all_img*255.0).convert(\"L\").save(f'ARUCO_MIP_25h7_{i}.png')\n",
    "    \n",
    "# fig = plt.figure(figsize=(ncols,nrows),dpi=300)\n",
    "# plt.imshow(all_img, cmap='gray', interpolation = \"nearest\")\n",
    "# plt.axis('off')\n",
    "# plt.show()"
   ]
  }
 ],
 "metadata": {
  "kernelspec": {
   "display_name": "Python 3",
   "language": "python",
   "name": "python3"
  },
  "language_info": {
   "codemirror_mode": {
    "name": "ipython",
    "version": 3
   },
   "file_extension": ".py",
   "mimetype": "text/x-python",
   "name": "python",
   "nbconvert_exporter": "python",
   "pygments_lexer": "ipython3",
   "version": "3.8.8"
  }
 },
 "nbformat": 4,
 "nbformat_minor": 5
}
